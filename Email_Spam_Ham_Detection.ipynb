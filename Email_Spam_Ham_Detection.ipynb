{
 "cells": [
  {
   "cell_type": "markdown",
   "metadata": {},
   "source": [
    "# Email Spam-Ham Detection"
   ]
  },
  {
   "cell_type": "markdown",
   "metadata": {},
   "source": [
    "#### In this project, we build a spam detector using 5 Machine Learning models and evaluate them with test data using different performance metrics used. The dataset we used was from real emails from Enron  containing both spam and ham emails in different proportions. As per our analysis, Naive Bayes model and SVM have relatively better accuracy for spam detection among all the models"
   ]
  },
  {
   "cell_type": "markdown",
   "metadata": {},
   "source": [
    "### Dataset Used :- The Enron Email \n",
    "\n",
    "Dataset Description:- This is one of the biggest email data sources in the world. Almost half a million files spread over 2.5 GB. Normally, emails are very sensitive, and rarely released to the public, but because of the shocking nature of Enron’s collapse, everything was released to the public.\n",
    "\n"
   ]
  },
  {
   "cell_type": "code",
   "execution_count": 1,
   "metadata": {},
   "outputs": [],
   "source": [
    "#Import all the required libraries\n",
    "import urllib.request\n",
    "import os  # The OS module in python provides functions for interacting with the operating system. \n",
    "import tarfile # The tarfile module makes it possible to read and write tar archives.\n",
    "import pickle # Python pickle module is used for serializing and de-serializing python object structures.\n",
    "\n",
    "import pandas as pd\n",
    "from sklearn.feature_extraction.text import TfidfVectorizer\n",
    "from sklearn.model_selection import train_test_split\n",
    "\n",
    "#Machine Learning algorithms to implement\n",
    "from sklearn.naive_bayes import MultinomialNB\n",
    "from sklearn.tree import DecisionTreeClassifier\n",
    "from sklearn.svm import SVC\n",
    "from sklearn.ensemble import RandomForestClassifier\n",
    "from sklearn.linear_model import LogisticRegression\n",
    "\n",
    "#import metrics libraries\n",
    "from sklearn.metrics import confusion_matrix\n",
    "from sklearn.metrics import accuracy_score\n",
    "from sklearn.metrics import precision_score\n",
    "from sklearn.metrics import recall_score\n",
    "from sklearn.metrics import f1_score\n",
    "\n",
    "#For Visualisation purpose\n",
    "%matplotlib inline\n",
    "import matplotlib.pyplot as plt\n",
    "import seaborn as sns"
   ]
  },
  {
   "cell_type": "markdown",
   "metadata": {},
   "source": [
    "## Download Dataset\n",
    "\n",
    "Download a set of spam and ham actual emails. Each email is a separate plain text file. Unzip the compressed tar files, read the text and load it into a Pandas Dataframe. Convert the dataframe to a Pickle object."
   ]
  },
  {
   "cell_type": "code",
   "execution_count": 2,
   "metadata": {},
   "outputs": [],
   "source": [
    "# Get the user's Downloads folder path\n",
    "home = os.path.expanduser('~')\n",
    "downloads = os.path.join(home, 'Downloads')\n",
    "#Give the URL name.\n",
    "url = \"http://www.aueb.gr/users/ion/data/enron-spam/preprocessed/\"\n",
    "enron_dir = os.path.join(downloads, 'Enron emails')\n",
    "# These are our tar files which we want to download for our project.\n",
    "enron_files = ['enron1.tar.gz', 'enron2.tar.gz', 'enron3.tar.gz',\n",
    "               'enron4.tar.gz', 'enron5.tar.gz', 'enron6.tar.gz']"
   ]
  },
  {
   "cell_type": "code",
   "execution_count": 3,
   "metadata": {},
   "outputs": [],
   "source": [
    "#It wil download the dataset in our directories if and only if the directory is not created and\n",
    "#datasets are not present in the directories.\n",
    "def download(): \n",
    "    # Create the directories.\n",
    "    if not os.path.exists(enron_dir):\n",
    "        os.makedirs(enron_dir)\n",
    "    # Download the files that not exist.\n",
    "    for file in enron_files:\n",
    "        path = os.path.join(enron_dir, file)\n",
    "        if not os.path.exists(path):\n",
    "            urllib.request.urlretrieve(url + file, path)\n"
   ]
  },
  {
   "cell_type": "code",
   "execution_count": 4,
   "metadata": {},
   "outputs": [],
   "source": [
    "#xtract the zipped emails and load them into a pandas df.\n",
    "def extract_emails(fname):  \n",
    "    rows = []\n",
    "    tfile = tarfile.open(fname, 'r:gz') # fname (str): the files with tar.gz extension\n",
    "    for member in tfile.getmembers():\n",
    "        if 'ham' in member.name:\n",
    "            f = tfile.extractfile(member)\n",
    "            if f is not None:\n",
    "                row = f.read()\n",
    "                rows.append({'message': row, 'class': 'ham'})\n",
    "        if 'spam' in member.name:\n",
    "            f = tfile.extractfile(member)\n",
    "            if f is not None:\n",
    "                row = f.read()\n",
    "                rows.append({'message': row, 'class': 'spam'})\n",
    "    tfile.close()\n",
    "    return pd.DataFrame(rows) # pandas df: a pandas dataframe of emails"
   ]
  },
  {
   "cell_type": "code",
   "execution_count": 5,
   "metadata": {},
   "outputs": [
    {
     "name": "stdout",
     "output_type": "stream",
     "text": [
      "Download, unzip, and save to pickle done!\n"
     ]
    }
   ],
   "source": [
    "#Populate the df with all the emails and save it to a pickle object.\n",
    "#The process to converts any kind of python objects (list, dict, etc.) into byte streams (0s and 1s) is called pickling or serialization\n",
    "#Why Pickle?: In real world sceanario, the use pickling and unpickling are widespread as they allow us to \n",
    "#             easily transfer data from one server/system to another and then store it in a file or database.\n",
    "def populate_df_and_pickle():\n",
    "    if not os.path.exists(downloads + \"/emails.pickle\"):\n",
    "        emails_df = pd.DataFrame({'message': [], 'class': []})\n",
    "        for file in enron_files:\n",
    "            unzipped_file = extract_emails(os.path.join(enron_dir, file))\n",
    "            emails_df = emails_df.append(unzipped_file)\n",
    "        emails_df.to_pickle(downloads + \"/emails.pickle\")\n",
    "\n",
    "if __name__ == '__main__':\n",
    "    download()\n",
    "    populate_df_and_pickle()\n",
    "    print(\"Download, unzip, and save to pickle done!\")"
   ]
  },
  {
   "cell_type": "code",
   "execution_count": 6,
   "metadata": {},
   "outputs": [],
   "source": [
    "# Open the dataset.\n",
    "with open(downloads + '/emails.pickle', 'rb') as f:\n",
    "    emails_df = pickle.load(f) \n",
    "\n",
    "# Translate bytes objects into strings.\n",
    "emails_df['message'] = emails_df['message'].apply(lambda x: x.decode('latin-1'))\n",
    "\n",
    "# Reset pandas df index.\n",
    "emails_df = emails_df.reset_index(drop=True)\n"
   ]
  },
  {
   "cell_type": "code",
   "execution_count": 7,
   "metadata": {},
   "outputs": [
    {
     "data": {
      "text/html": [
       "<div>\n",
       "<style scoped>\n",
       "    .dataframe tbody tr th:only-of-type {\n",
       "        vertical-align: middle;\n",
       "    }\n",
       "\n",
       "    .dataframe tbody tr th {\n",
       "        vertical-align: top;\n",
       "    }\n",
       "\n",
       "    .dataframe thead th {\n",
       "        text-align: right;\n",
       "    }\n",
       "</style>\n",
       "<table border=\"1\" class=\"dataframe\">\n",
       "  <thead>\n",
       "    <tr style=\"text-align: right;\">\n",
       "      <th></th>\n",
       "      <th>message</th>\n",
       "      <th>class</th>\n",
       "    </tr>\n",
       "  </thead>\n",
       "  <tbody>\n",
       "    <tr>\n",
       "      <th>0</th>\n",
       "      <td>Subject: christmas tree farm pictures\\r\\n</td>\n",
       "      <td>ham</td>\n",
       "    </tr>\n",
       "    <tr>\n",
       "      <th>1</th>\n",
       "      <td>Subject: vastar resources , inc .\\r\\ngary , pr...</td>\n",
       "      <td>ham</td>\n",
       "    </tr>\n",
       "    <tr>\n",
       "      <th>2</th>\n",
       "      <td>Subject: calpine daily gas nomination\\r\\n- cal...</td>\n",
       "      <td>ham</td>\n",
       "    </tr>\n",
       "    <tr>\n",
       "      <th>3</th>\n",
       "      <td>Subject: re : issue\\r\\nfyi - see note below - ...</td>\n",
       "      <td>ham</td>\n",
       "    </tr>\n",
       "    <tr>\n",
       "      <th>4</th>\n",
       "      <td>Subject: meter 7268 nov allocation\\r\\nfyi .\\r\\...</td>\n",
       "      <td>ham</td>\n",
       "    </tr>\n",
       "  </tbody>\n",
       "</table>\n",
       "</div>"
      ],
      "text/plain": [
       "                                             message class\n",
       "0          Subject: christmas tree farm pictures\\r\\n   ham\n",
       "1  Subject: vastar resources , inc .\\r\\ngary , pr...   ham\n",
       "2  Subject: calpine daily gas nomination\\r\\n- cal...   ham\n",
       "3  Subject: re : issue\\r\\nfyi - see note below - ...   ham\n",
       "4  Subject: meter 7268 nov allocation\\r\\nfyi .\\r\\...   ham"
      ]
     },
     "execution_count": 7,
     "metadata": {},
     "output_type": "execute_result"
    }
   ],
   "source": [
    "#How the dataframe looks like now?\n",
    "emails_df.head()"
   ]
  },
  {
   "cell_type": "code",
   "execution_count": 8,
   "metadata": {},
   "outputs": [
    {
     "name": "stdout",
     "output_type": "stream",
     "text": [
      "RangeIndex(start=0, stop=33716, step=1)\n"
     ]
    },
    {
     "data": {
      "text/plain": [
       "(33716, 2)"
      ]
     },
     "execution_count": 8,
     "metadata": {},
     "output_type": "execute_result"
    }
   ],
   "source": [
    "# Map 'spam' to 1 and 'ham' to 0.\n",
    "emails_df['class'] = emails_df['class'].map({'spam':1, 'ham':0})\n",
    "\n",
    "print(emails_df.index)\n",
    "emails_df.shape"
   ]
  },
  {
   "cell_type": "code",
   "execution_count": 9,
   "metadata": {},
   "outputs": [
    {
     "name": "stdout",
     "output_type": "stream",
     "text": [
      "                                             message  class\n",
      "0          Subject: christmas tree farm pictures\\r\\n      0\n",
      "1  Subject: vastar resources , inc .\\r\\ngary , pr...      0\n",
      "2  Subject: calpine daily gas nomination\\r\\n- cal...      0\n",
      "3  Subject: re : issue\\r\\nfyi - see note below - ...      0\n",
      "4  Subject: meter 7268 nov allocation\\r\\nfyi .\\r\\...      0\n"
     ]
    },
    {
     "data": {
      "text/plain": [
       "array(['Subject: hpl fuel gas buy - back for december 1999\\r\\nfyi :\\r\\n- - - - - - - - - - - - - - - - - - - - - - forwarded by gregg lenart / hou / ect on 12 / 16 / 99 02 : 02 pm\\r\\n- - - - - - - - - - - - - - - - - - - - - - - - - - -\\r\\nenron north america corp .\\r\\nfrom : sally shuler @ enron 12 / 16 / 99 01 : 55 pm\\r\\nto : gregg lenart / hou / ect @ ect\\r\\ncc :\\r\\nsubject : hpl fuel gas buy - back for december 1999\\r\\n- - - - - - - - - - - - - - - - - - - - - - forwarded by sally shuler / gpgfin / enron on 12 / 16 / 99\\r\\n02 : 02 pm - - - - - - - - - - - - - - - - - - - - - - - - - - -\\r\\nmichael mitcham\\r\\n12 / 16 / 99 01 : 45 pm\\r\\nto : james prentice / gpgfin / enron @ enron , kerry roper / gpgfin / enron @ enron , sally\\r\\nshuler / gpgfin / enron @ enron , mark diedrich / gpgfin / enron @ enron , paul\\r\\nfox / ecf / enron @ enron\\r\\ncc :\\r\\nsubject : hpl fuel gas buy - back for december 1999\\r\\negp fuels fuels co . has sold back 7 , 000 mmbtu / day starting 12 / 17 through\\r\\n12 / 31 to hpl at $ 2 . 50 mmbtu .\\r\\nif anyone has any questions , please let me know .\\r\\nthanks',\n",
       "       0], dtype=object)"
      ]
     },
     "execution_count": 9,
     "metadata": {},
     "output_type": "execute_result"
    }
   ],
   "source": [
    "#after mapping:-\n",
    "print(emails_df.head())\n",
    "\n",
    "#A more detailed view of a single email\n",
    "emails_df.iloc[18].values"
   ]
  },
  {
   "cell_type": "markdown",
   "metadata": {},
   "source": [
    "## Clean the Dataset\n",
    "\n",
    "we will import re in this module to check if a perticular string matches a given regular expression.The ‘sub’ in the function stands for SubString, a certain regular expression pattern is searched in the given string(3rd parameter), and upon finding the substring pattern is replaced by repl(2nd parameter), count checks and maintains the number of times this occurs. "
   ]
  },
  {
   "cell_type": "code",
   "execution_count": 10,
   "metadata": {},
   "outputs": [
    {
     "data": {
      "text/plain": [
       "array(['subject hpl fuel gas buy  back for december  \\r fyi \\r                       forwarded by gregg lenart  hou  ect on              pm\\r                           \\r enron north america corp \\r from  sally shuler  enron              pm\\r to  gregg lenart  hou  ect  ect\\r cc \\r subject  hpl fuel gas buy  back for december  \\r                       forwarded by sally shuler  gpgfin  enron on        \\r      pm                           \\r michael mitcham\\r              pm\\r to  james prentice  gpgfin  enron  enron  kerry roper  gpgfin  enron  enron  sally\\r shuler  gpgfin  enron  enron  mark diedrich  gpgfin  enron  enron  paul\\r fox  ecf  enron  enron\\r cc \\r subject  hpl fuel gas buy  back for december  \\r egp fuels fuels co  has sold back      mmbtu  day starting      through\\r      to hpl at       mmbtu \\r if anyone has any questions  please let me know \\r thanks',\n",
       "       0], dtype=object)"
      ]
     },
     "execution_count": 10,
     "metadata": {},
     "output_type": "execute_result"
    }
   ],
   "source": [
    "from string import punctuation\n",
    "import re # Regular expression operation\n",
    "\"\"\" \n",
    "     Args:\n",
    "        email (unicode): the email\n",
    "    Returns:\n",
    "        email (unicode): only the text of the email\n",
    "        \n",
    "    \"\"\"\n",
    "\n",
    "#Remove all punctuation, urls, numbers, and newlines.\n",
    "#Convert to lower case.\n",
    "\n",
    "def clean_email(email): \n",
    "    \n",
    "    email = re.sub(r'http\\S+', ' ', email)\n",
    "    email = re.sub(\"\\d+\", \" \", email)\n",
    "    email = email.replace('\\n', ' ')\n",
    "    email = email.replace('\\t', ' ')\n",
    "    email = email.translate(str.maketrans(\"\", \"\", punctuation))\n",
    "    email = email.lower()\n",
    "    return email # It returns only the text of the email\n",
    "\n",
    "emails_df['message'] = emails_df['message'].apply(clean_email)\n",
    "\n",
    "#After cleaning how the email looks like\n",
    "emails_df.iloc[18].values"
   ]
  },
  {
   "cell_type": "markdown",
   "metadata": {},
   "source": [
    "## Preprocess the Data\n",
    "\n",
    "Split the text string into individual words and stem each word. \n",
    "Remove english stop words. (Stopwords are the English words which does not add much meaning to a sentence)\n",
    "\n",
    "### Split and Stem\n",
    "Split the text by white spaces and link the different forms of the same word to each other, using stemming. For example “responsiveness” and “response” have the same stem/root - “response”.\n",
    "\n",
    "### Remove Stop Words\n",
    "Some words such as “the” or “is” appear in all emails and don’t have much content to them. These words are not going to help the algorithm distinguish spam from ham. Such words are called stopwords and they can be disregarded during classification."
   ]
  },
  {
   "cell_type": "code",
   "execution_count": 11,
   "metadata": {},
   "outputs": [
    {
     "data": {
      "text/plain": [
       "array(['subject hpl fuel gas buy back for decemb fyi forward by gregg lenart hou ect on pm enron north america corp from salli shuler enron pm to gregg lenart hou ect ect cc subject hpl fuel gas buy back for decemb forward by salli shuler gpgfin enron on pm michael mitcham pm to jame prentic gpgfin enron enron kerri roper gpgfin enron enron salli shuler gpgfin enron enron mark diedrich gpgfin enron enron paul fox ecf enron enron cc subject hpl fuel gas buy back for decemb egp fuel fuel co has sold back mmbtu day start through to hpl at mmbtu if anyon has ani question pleas let me know thank ',\n",
       "       0], dtype=object)"
      ]
     },
     "execution_count": 11,
     "metadata": {},
     "output_type": "execute_result"
    }
   ],
   "source": [
    "#Natural language tool kit\n",
    "from nltk.stem.snowball import SnowballStemmer\n",
    "\n",
    "\"\"\" Split the text string into individual words, stem each word,\n",
    "    and append the stemmed word to words. Make sure there's a single\n",
    "    space between each stemmed word.\n",
    "    Args:\n",
    "        email (unicode): the email\n",
    "    Returns:\n",
    "        words (unicode): the text of the email\n",
    "        \n",
    "    \"\"\"\n",
    "def preproces_text(email):  \n",
    "    words = \"\"\n",
    "    # Create the stemmer.\n",
    "    stemmer = SnowballStemmer(\"english\")\n",
    "    # Split text into words.\n",
    "    email = email.split()\n",
    "    for word in email:\n",
    "        words = words + stemmer.stem(word) + \" \"\n",
    "    \n",
    "    return words\n",
    "\n",
    "emails_df['message'] = emails_df['message'].apply(preproces_text)\n",
    "\n",
    "emails_df.iloc[18].values"
   ]
  },
  {
   "cell_type": "markdown",
   "metadata": {},
   "source": [
    "## Vectorize Words and Split Data to Train/Test Sets\n",
    "Transform the words into a tf-idf matrix using the sklearn TfIdf transformation. Then, create train/test sets with the train_test_split function, using stratify parameter. The dataset is highly unbalanced and the stratify parameter will make a split so that the proportion of values in the sample produced will be the same as the proportion of values provided to parameter stratify. For example, if variable y is 0 and 1 and there are 30% of 0’s and 70% of 1’s, stratify=y will make sure that the random split has 30% of 0’s and 75% of 1’s."
   ]
  },
  {
   "cell_type": "code",
   "execution_count": 12,
   "metadata": {},
   "outputs": [
    {
     "name": "stdout",
     "output_type": "stream",
     "text": [
      "Number of different words: 119405\n",
      "Word example: arcadian\n",
      "(26972, 119405) (26972,)\n",
      "(6744, 119405) (6744,)\n"
     ]
    }
   ],
   "source": [
    "# Define the independent variables as Xs.\n",
    "Xs = emails_df['message'].values\n",
    "\n",
    "# Define the target (dependent) variable as Ys.\n",
    "Ys = emails_df['class'].values\n",
    "\n",
    "# Vectorize words - Turn the text numerical feature vectors,\n",
    "# Equivalent to CountVectorizer followed by TfidfTransformer.\n",
    "# using the strategy of tokenization, counting and normalization.\n",
    "vectorizer = TfidfVectorizer(sublinear_tf=True, max_df=0.5,\n",
    "                                       stop_words='english')\n",
    "Xs = vectorizer.fit_transform(Xs)\n",
    "\n",
    "# Create a train/test split using 20% test size.\n",
    "X_train, X_test, y_train, y_test = train_test_split(Xs,\n",
    "                                                    Ys,\n",
    "                                                    test_size=0.2,\n",
    "                                                    shuffle=True,\n",
    "                                                    random_state=0,\n",
    "                                                    stratify=Ys)\n",
    "\n",
    "feature_names = vectorizer.get_feature_names()\n",
    "print(\"Number of different words: {0}\".format(len(feature_names)))\n",
    "print(\"Word example: {0}\".format(feature_names[5369]))\n",
    "\n",
    "# Check the split printing the shape of each set.\n",
    "print(X_train.shape, y_train.shape)\n",
    "print(X_test.shape, y_test.shape)"
   ]
  },
  {
   "cell_type": "code",
   "execution_count": 13,
   "metadata": {},
   "outputs": [
    {
     "data": {
      "text/html": [
       "<div>\n",
       "<style scoped>\n",
       "    .dataframe tbody tr th:only-of-type {\n",
       "        vertical-align: middle;\n",
       "    }\n",
       "\n",
       "    .dataframe tbody tr th {\n",
       "        vertical-align: top;\n",
       "    }\n",
       "\n",
       "    .dataframe thead th {\n",
       "        text-align: right;\n",
       "    }\n",
       "</style>\n",
       "<table border=\"1\" class=\"dataframe\">\n",
       "  <thead>\n",
       "    <tr style=\"text-align: right;\">\n",
       "      <th></th>\n",
       "      <th>message</th>\n",
       "      <th>class</th>\n",
       "    </tr>\n",
       "  </thead>\n",
       "  <tbody>\n",
       "    <tr>\n",
       "      <th>0</th>\n",
       "      <td>subject christma tree farm pictur</td>\n",
       "      <td>0</td>\n",
       "    </tr>\n",
       "    <tr>\n",
       "      <th>1</th>\n",
       "      <td>subject vastar resourc inc gari product from t...</td>\n",
       "      <td>0</td>\n",
       "    </tr>\n",
       "    <tr>\n",
       "      <th>2</th>\n",
       "      <td>subject calpin daili gas nomin calpin daili ga...</td>\n",
       "      <td>0</td>\n",
       "    </tr>\n",
       "    <tr>\n",
       "      <th>3</th>\n",
       "      <td>subject re issu fyi see note below alreadi don...</td>\n",
       "      <td>0</td>\n",
       "    </tr>\n",
       "    <tr>\n",
       "      <th>4</th>\n",
       "      <td>subject meter nov alloc fyi forward by lauri a...</td>\n",
       "      <td>0</td>\n",
       "    </tr>\n",
       "    <tr>\n",
       "      <th>...</th>\n",
       "      <td>...</td>\n",
       "      <td>...</td>\n",
       "    </tr>\n",
       "    <tr>\n",
       "      <th>33711</th>\n",
       "      <td>subject iso q good news c edaliss val edumm vl...</td>\n",
       "      <td>1</td>\n",
       "    </tr>\n",
       "    <tr>\n",
       "      <th>33712</th>\n",
       "      <td>subject all prescript medicin are on special t...</td>\n",
       "      <td>1</td>\n",
       "    </tr>\n",
       "    <tr>\n",
       "      <th>33713</th>\n",
       "      <td>subject the next generat onlin pharmaci are yo...</td>\n",
       "      <td>1</td>\n",
       "    </tr>\n",
       "    <tr>\n",
       "      <th>33714</th>\n",
       "      <td>subject bloow in time the time learn how to la...</td>\n",
       "      <td>1</td>\n",
       "    </tr>\n",
       "    <tr>\n",
       "      <th>33715</th>\n",
       "      <td>subject dear sir i am interest in it hi do you...</td>\n",
       "      <td>1</td>\n",
       "    </tr>\n",
       "  </tbody>\n",
       "</table>\n",
       "<p>33716 rows × 2 columns</p>\n",
       "</div>"
      ],
      "text/plain": [
       "                                                 message  class\n",
       "0                     subject christma tree farm pictur       0\n",
       "1      subject vastar resourc inc gari product from t...      0\n",
       "2      subject calpin daili gas nomin calpin daili ga...      0\n",
       "3      subject re issu fyi see note below alreadi don...      0\n",
       "4      subject meter nov alloc fyi forward by lauri a...      0\n",
       "...                                                  ...    ...\n",
       "33711  subject iso q good news c edaliss val edumm vl...      1\n",
       "33712  subject all prescript medicin are on special t...      1\n",
       "33713  subject the next generat onlin pharmaci are yo...      1\n",
       "33714  subject bloow in time the time learn how to la...      1\n",
       "33715  subject dear sir i am interest in it hi do you...      1\n",
       "\n",
       "[33716 rows x 2 columns]"
      ]
     },
     "execution_count": 13,
     "metadata": {},
     "output_type": "execute_result"
    }
   ],
   "source": [
    "# Check how our dataset looks like now\n",
    "emails_df"
   ]
  },
  {
   "cell_type": "markdown",
   "metadata": {},
   "source": [
    "## Train a Classifier\n",
    "Trained five models using the training data:\n",
    "    a.    Naive Bayes\n",
    "    b.    Decision Tree\n",
    "    c.    SVM\n",
    "    d.    Random Forest\n",
    "    e.    Logistic Regression\n",
    "    \n",
    "Using the trained models, predicted the email label for test dataset. Calculated four metrics to gauge performance of the models:\n",
    "    a.    Accuracy\n",
    "    b.    Precision\n",
    "    c.    Recall\n",
    "    d.    F-score"
   ]
  },
  {
   "cell_type": "markdown",
   "metadata": {},
   "source": [
    "Below are the metrics explanation:-\n",
    "\n",
    "1. Precision\n",
    "\n",
    "Precision refers to the closeness of two or more measurements to each other. In Machine Learning, precision is the fraction of relevant instances among the retrieved instances.\n",
    "\n",
    "   Precision = TP / (TP + FP) (Where TP = True Positive, TN = True Negative, FP = False Positive, FN = False Negative).\n",
    "   \n",
    "\n",
    "2. Accuracy\n",
    "\n",
    "Accuracy refers to the closeness of a measured value to a standard or known value. \n",
    "\n",
    "   Accuracy = (TP+TN) / ALL\n",
    "   \n",
    "\n",
    "3. Recall\n",
    "\n",
    "Recall is how many of the true positives were recalled (found), i.e. how many of the correct hits were also found. \n",
    "\n",
    "   Recall = TP / (TP + FN)\n",
    "   \n",
    "\n",
    "4. F-Score\n",
    "\n",
    "F-scores are a statistical method for determining accuracy accounting for both precision and recall. It is essentially the harmonic mean of precision and recall.\n",
    "\n"
   ]
  },
  {
   "cell_type": "code",
   "execution_count": 14,
   "metadata": {},
   "outputs": [],
   "source": [
    "#function which takes in y test value and y predicted value and prints the associated model performance metrics\n",
    "def model_assessment(y_test,predicted_class):\n",
    "    print('confusion matrix')\n",
    "    print(confusion_matrix(y_test,predicted_class))\n",
    "    print('accuracy')\n",
    "    print(accuracy_score(y_test,predicted_class))\n",
    "    print('precision')\n",
    "    print(precision_score(y_test,predicted_class))\n",
    "    print('recall')\n",
    "    print(recall_score(y_test,predicted_class))\n",
    "    print('f-Score')\n",
    "    print(f1_score(y_test,predicted_class))\n",
    "    fig, ax = plt.subplots(figsize=(3.5,2.5))\n",
    "    sns.heatmap(confusion_matrix(y_test, predicted_class), \n",
    "                annot=True, linewidths=.5, ax=ax, fmt=\"d\").set(xlabel='Predicted Value', ylabel='Expected Value')\n",
    "    plt.title('Confusion Matrix')"
   ]
  },
  {
   "cell_type": "markdown",
   "metadata": {},
   "source": [
    "### Naive Bayes Model"
   ]
  },
  {
   "cell_type": "markdown",
   "metadata": {},
   "source": [
    "Naive Bayes is the easiest classification algorithm (fast to build, regularly used for spam detection). It is a popular (baseline) method for text categorization, the problem of judging documents as belonging to one category or the other (such as spam or legitimate, sports or politics, etc.) with word frequencies as the features.\n",
    "\n",
    "NB is very simple, easy to implement and fast because essentially you’re just doing a bunch of counts.\n",
    "If the NB conditional independence assumption holds, then it will converge quicker than discriminative models like logistic regression.\n",
    "NB needs works well even with less sample data.\n",
    "NB is highly scalable. It scales linearly with the number of predictors and data points.\n",
    "NB can be used for both binary and multi-class classification problems and handles continuous and discrete data.\n",
    "NB is not sensitive to irrelevant features."
   ]
  },
  {
   "cell_type": "code",
   "execution_count": 15,
   "metadata": {},
   "outputs": [
    {
     "name": "stdout",
     "output_type": "stream",
     "text": [
      "confusion matrix\n",
      "[[3260   49]\n",
      " [  54 3381]]\n",
      "accuracy\n",
      "0.9847271648873073\n",
      "precision\n",
      "0.9857142857142858\n",
      "recall\n",
      "0.9842794759825327\n",
      "f-Score\n",
      "0.9849963583394027\n"
     ]
    },
    {
     "data": {
      "image/png": "[encoded data removed]",
      "text/plain": [
       "<Figure size 252x180 with 2 Axes>"
      ]
     },
     "metadata": {
      "needs_background": "light"
     },
     "output_type": "display_data"
    }
   ],
   "source": [
    "# Create classifier.\n",
    "modelNB = MultinomialNB()\n",
    "\n",
    "# Fit the classifier on the training features and labels.\n",
    "modelNB.fit(X_train, y_train)\n",
    "\n",
    "# Make prediction - Store predictions in a list named pred.\n",
    "predicted_class_NB = modelNB.predict(X_test)\n",
    "\n",
    "#assess NB\n",
    "model_assessment(y_test,predicted_class_NB)"
   ]
  },
  {
   "cell_type": "markdown",
   "metadata": {},
   "source": [
    "### Decision Tree Model"
   ]
  },
  {
   "cell_type": "markdown",
   "metadata": {},
   "source": [
    "Decision trees are used for classification and regression. In decision analysis, a decision tree can be used to visually and explicitly represent decisions and decision making. The decision of making strategic splits heavily affects a tree’s accuracy. The decision criteria is different for classification and regression trees. Information theory is a measure to define this degree of disorganization in a system known as Entropy. If the sample is completely homogeneous, then the entropy is zero and if the sample is an equally divided (50% – 50%), it has entropy of one. It chooses the split which has lowest entropy compared to parent node and other splits. The lesser the entropy, the better it is.\n",
    "\n",
    "Decision trees implicitly perform variable screening or feature selection. When we fit a decision tree to a training dataset, the top few nodes on which the tree is split are essentially the most important variables within the dataset and feature selection is completed automatically\n",
    "\n",
    "Decision trees are easy to understand, easy to represent visually and easy to communicate.\n",
    "Nonlinear relationships between parameters do not affect tree performance. Also trees can explain the non-linearity in an intuitive manner."
   ]
  },
  {
   "cell_type": "code",
   "execution_count": 16,
   "metadata": {},
   "outputs": [
    {
     "name": "stdout",
     "output_type": "stream",
     "text": [
      "confusion matrix\n",
      "[[3175  134]\n",
      " [ 128 3307]]\n",
      "accuracy\n",
      "0.9611506524317912\n",
      "precision\n",
      "0.9610578320255739\n",
      "recall\n",
      "0.9627365356622999\n",
      "f-Score\n",
      "0.9618964514252472\n"
     ]
    },
    {
     "data": {
      "image/png": "[encoded data removed]",
      "text/plain": [
       "<Figure size 252x180 with 2 Axes>"
      ]
     },
     "metadata": {
      "needs_background": "light"
     },
     "output_type": "display_data"
    }
   ],
   "source": [
    "# Create classifier.\n",
    "model_tree = DecisionTreeClassifier()\n",
    "\n",
    "# Fit the classifier on the training features and labels.\n",
    "model_tree.fit(X_train, y_train)\n",
    "\n",
    "# Make prediction - Store predictions in a list named pred.\n",
    "predicted_class_tree = model_tree.predict(X_test)\n",
    "\n",
    "#assess Decision Tree\n",
    "model_assessment(y_test,predicted_class_tree)\n"
   ]
  },
  {
   "cell_type": "markdown",
   "metadata": {},
   "source": [
    "### Support Vector Machine"
   ]
  },
  {
   "cell_type": "markdown",
   "metadata": {},
   "source": [
    "SVM is a supervised machine learning algorithm which can be used for both classification or regression challenges. However, it is mostly used in classification problems. In this algorithm, we plot each data item as a point in n-dimensional space (where n is number of features you have) with the value of each feature being the value of a particular coordinate. Then, we perform classification by finding the hyperplane that differentiate the two classes very well. \n",
    "\n",
    "Support Vectors are simply the coordinates of individual observation. Support Vector Machine is a frontier which best segregates the two classes (hyper-plane/ line). If the data requires non-linear classification, SVM can employe Kernels, which are functions which takes low dimensional input space and transform it to a higher dimensional space i.e. they convert non separable problem to separable problem."
   ]
  },
  {
   "cell_type": "code",
   "execution_count": 17,
   "metadata": {},
   "outputs": [
    {
     "name": "stdout",
     "output_type": "stream",
     "text": [
      "confusion matrix\n",
      "[[3246   63]\n",
      " [   5 3430]]\n",
      "accuracy\n",
      "0.9899169632265717\n",
      "precision\n",
      "0.9819639278557114\n",
      "recall\n",
      "0.9985443959243085\n",
      "f-Score\n",
      "0.9901847575057736\n"
     ]
    },
    {
     "data": {
      "image/png": "[encoded data removed]",
      "text/plain": [
       "<Figure size 252x180 with 2 Axes>"
      ]
     },
     "metadata": {
      "needs_background": "light"
     },
     "output_type": "display_data"
    }
   ],
   "source": [
    "# Create classifier.\n",
    "model_svm = SVC()\n",
    "\n",
    "# Fit the classifier on the training features and labels.\n",
    "model_svm.fit(X_train, y_train)\n",
    "\n",
    "# Make prediction - Store predictions in a list named pred.\n",
    "predicted_class_svm = model_svm.predict(X_test)\n",
    "\n",
    "#assess Support Vector Machine\n",
    "model_assessment(y_test,predicted_class_svm)\n"
   ]
  },
  {
   "cell_type": "markdown",
   "metadata": {},
   "source": [
    "### Random Forest"
   ]
  },
  {
   "cell_type": "markdown",
   "metadata": {},
   "source": [
    "Random forest is like bootstrapping algorithm with Decision tree (CART) model. Random forest tries to build multiple CART model with different sample and different initial variables. For instance, it will take a random sample of 100 observation and 5 randomly chosen initial variables to build a CART model. It will repeat the process (say) 10 times and then make a final prediction on each observation. Final prediction is a function of each prediction. This final prediction can simply be the mean of each prediction. Random forest gives much more accurate predictions when compared to simple CART/CHAID or regression models in many scenarios. These cases generally have high number of predictive variables and huge sample size. This is because it captures the variance of several input variables at the same time and enables high number of observations to participate in the prediction. "
   ]
  },
  {
   "cell_type": "code",
   "execution_count": 18,
   "metadata": {},
   "outputs": [
    {
     "name": "stdout",
     "output_type": "stream",
     "text": [
      "confusion matrix\n",
      "[[3246   63]\n",
      " [  35 3400]]\n",
      "accuracy\n",
      "0.9854685646500593\n",
      "precision\n",
      "0.9818076812012706\n",
      "recall\n",
      "0.9898107714701602\n",
      "f-Score\n",
      "0.9857929834734706\n"
     ]
    },
    {
     "data": {
      "image/png": "[encoded data removed]",
      "text/plain": [
       "<Figure size 252x180 with 2 Axes>"
      ]
     },
     "metadata": {
      "needs_background": "light"
     },
     "output_type": "display_data"
    }
   ],
   "source": [
    "# Create classifier.\n",
    "model_rf=RandomForestClassifier(n_estimators=20,criterion='entropy')\n",
    "\n",
    "# Fit the classifier on the training features and labels.\n",
    "model_rf.fit(X_train, y_train)\n",
    "\n",
    "# Make prediction - Store predictions in a list named pred.\n",
    "predicted_class_rf = model_rf.predict(X_test)\n",
    "\n",
    "#assess Random Forest\n",
    "model_assessment(y_test,predicted_class_rf)\n",
    "\n"
   ]
  },
  {
   "cell_type": "markdown",
   "metadata": {},
   "source": [
    "### Logistic Regression"
   ]
  },
  {
   "cell_type": "markdown",
   "metadata": {},
   "source": [
    "Logistic regression is a classification algorithm used to find the probability of event success and event failure. It is used when the dependent variable is binary(0/1, True/False, Yes/No) in nature. It supports categorizing data into discrete classes by studying the relationship from a given set of labelled data. It learns a linear relationship from the given dataset and then introduces a non-linearity in the form of the Sigmoid function.\n",
    "\n",
    "Logistic regression is easier to implement, interpret, and very efficient to train. It makes no assumptions about distributions of classes in feature space.\n"
   ]
  },
  {
   "cell_type": "code",
   "execution_count": 19,
   "metadata": {},
   "outputs": [
    {
     "name": "stdout",
     "output_type": "stream",
     "text": [
      "confusion matrix\n",
      "[[3209  100]\n",
      " [   8 3427]]\n",
      "accuracy\n",
      "0.9839857651245552\n",
      "precision\n",
      "0.9716472923164162\n",
      "recall\n",
      "0.9976710334788937\n",
      "f-Score\n",
      "0.9844872163171503\n"
     ]
    },
    {
     "data": {
      "image/png": "[encoded data removed]",
      "text/plain": [
       "<Figure size 252x180 with 2 Axes>"
      ]
     },
     "metadata": {
      "needs_background": "light"
     },
     "output_type": "display_data"
    }
   ],
   "source": [
    "# Create classifier.\n",
    "model_logr=LogisticRegression(random_state=0)\n",
    "\n",
    "# Fit the classifier on the training features and labels.\n",
    "model_logr.fit(X_train, y_train)\n",
    "\n",
    "# Make prediction - Store predictions in a list named pred.\n",
    "predicted_class_logr = model_logr.predict(X_test)\n",
    "\n",
    "#assess Logistic Regression\n",
    "model_assessment(y_test,predicted_class_logr)"
   ]
  },
  {
   "cell_type": "code",
   "execution_count": 20,
   "metadata": {},
   "outputs": [
    {
     "name": "stdout",
     "output_type": "stream",
     "text": [
      "     values Features\n",
      "0 -7.101930    money\n",
      "1 -7.081061    price\n",
      "2 -7.077249    onlin\n",
      "3 -7.076961    offer\n",
      "4 -7.064398      www\n",
      "5 -7.046302  softwar\n",
      "6 -6.975681    email\n",
      "7 -6.941401    click\n",
      "8 -6.658366      com\n",
      "9 -6.590683     http\n"
     ]
    },
    {
     "data": {
      "image/png": "[encoded data removed]",
      "text/plain": [
       "<Figure size 432x288 with 1 Axes>"
      ]
     },
     "metadata": {
      "needs_background": "light"
     },
     "output_type": "display_data"
    }
   ],
   "source": [
    "## Identify the Most Powerful Features\n",
    "## Print the 10 most important features.\n",
    "\n",
    "def get_most_important_features(vectorizer, classifier,n=10):\n",
    "    feature_names = vectorizer.get_feature_names()\n",
    "    df = pd.DataFrame(sorted(zip(classifier.coef_[0],feature_names))[-n:],columns = ['values', 'Features'])\n",
    "    print(df) \n",
    "    ax = df.plot.barh(x='Features', y='values')\n",
    "    \n",
    "get_most_important_features(vectorizer, modelNB ,10)\n",
    "\n"
   ]
  }
 ],
 "metadata": {
  "kernelspec": {
   "display_name": "Python 3",
   "language": "python",
   "name": "python3"
  },
  "language_info": {
   "codemirror_mode": {
    "name": "ipython",
    "version": 3
   },
   "file_extension": ".py",
   "mimetype": "text/x-python",
   "name": "python",
   "nbconvert_exporter": "python",
   "pygments_lexer": "ipython3",
   "version": "3.7.7"
  }
 },
 "nbformat": 4,
 "nbformat_minor": 4
}
